{
 "cells": [
  {
   "cell_type": "code",
   "execution_count": 2,
   "metadata": {},
   "outputs": [
    {
     "name": "stdout",
     "output_type": "stream",
     "text": [
      "Collecting flask-cors\n",
      "  Downloading Flask_Cors-4.0.0-py2.py3-none-any.whl.metadata (5.4 kB)\n",
      "Requirement already satisfied: Flask>=0.9 in c:\\users\\junwei\\appdata\\local\\programs\\python\\python310\\lib\\site-packages (from flask-cors) (3.0.3)\n",
      "Requirement already satisfied: Werkzeug>=3.0.0 in c:\\users\\junwei\\appdata\\local\\programs\\python\\python310\\lib\\site-packages (from Flask>=0.9->flask-cors) (3.0.1)\n",
      "Requirement already satisfied: Jinja2>=3.1.2 in c:\\users\\junwei\\appdata\\local\\programs\\python\\python310\\lib\\site-packages (from Flask>=0.9->flask-cors) (3.1.2)\n",
      "Requirement already satisfied: itsdangerous>=2.1.2 in c:\\users\\junwei\\appdata\\local\\programs\\python\\python310\\lib\\site-packages (from Flask>=0.9->flask-cors) (2.2.0)\n",
      "Requirement already satisfied: click>=8.1.3 in c:\\users\\junwei\\appdata\\local\\programs\\python\\python310\\lib\\site-packages (from Flask>=0.9->flask-cors) (8.1.7)\n",
      "Requirement already satisfied: blinker>=1.6.2 in c:\\users\\junwei\\appdata\\local\\programs\\python\\python310\\lib\\site-packages (from Flask>=0.9->flask-cors) (1.7.0)\n",
      "Requirement already satisfied: colorama in c:\\users\\junwei\\appdata\\roaming\\python\\python310\\site-packages (from click>=8.1.3->Flask>=0.9->flask-cors) (0.4.6)\n",
      "Requirement already satisfied: MarkupSafe>=2.0 in c:\\users\\junwei\\appdata\\local\\programs\\python\\python310\\lib\\site-packages (from Jinja2>=3.1.2->Flask>=0.9->flask-cors) (2.1.3)\n",
      "Downloading Flask_Cors-4.0.0-py2.py3-none-any.whl (14 kB)\n",
      "Installing collected packages: flask-cors\n",
      "Successfully installed flask-cors-4.0.0\n"
     ]
    },
    {
     "name": "stderr",
     "output_type": "stream",
     "text": [
      "\n",
      "[notice] A new release of pip is available: 23.3.2 -> 24.0\n",
      "[notice] To update, run: python.exe -m pip install --upgrade pip\n"
     ]
    }
   ],
   "source": [
    "# !pip install youtube_transcript_api\n",
    "# !pip install -U -q google.generativeai\n",
    "# !pip install streamlit\n",
    "# !pip install python-dotenv\n",
    "# !pip install Flask\n",
    "# !pip install flask-cors"
   ]
  },
  {
   "cell_type": "code",
   "execution_count": 4,
   "metadata": {},
   "outputs": [],
   "source": [
    "from youtube_transcript_api import YouTubeTranscriptApi\n",
    "import google.generativeai as genai\n",
    "from dotenv import load_dotenv\n",
    "import os"
   ]
  },
  {
   "cell_type": "code",
   "execution_count": 5,
   "metadata": {},
   "outputs": [
    {
     "data": {
      "text/plain": [
       "True"
      ]
     },
     "execution_count": 5,
     "metadata": {},
     "output_type": "execute_result"
    }
   ],
   "source": [
    "load_dotenv()"
   ]
  },
  {
   "cell_type": "code",
   "execution_count": 6,
   "metadata": {},
   "outputs": [],
   "source": [
    "genai.configure(api_key=os.environ[\"GOOGLE_API_KEY\"])"
   ]
  },
  {
   "cell_type": "code",
   "execution_count": 34,
   "metadata": {},
   "outputs": [],
   "source": [
    "prompt = \"\"\"Welcome, Video quiz generator! Your task is to generate a quiz from a given YouTube video transcript, potentially from a video lecture. Your quiz should test on the key points and essential information, presented in 5 multiple choice questions. You should also tell me the answer to each question. You should organize each question and answer into a JSON format, so that there is an array of 5 JSON objects.\"\"\""
   ]
  },
  {
   "cell_type": "code",
   "execution_count": 9,
   "metadata": {},
   "outputs": [],
   "source": [
    "def extract_transcript_details(youtube_video_url):\n",
    "    try:\n",
    "        video_id = youtube_video_url.split(\"=\")[1]\n",
    "        transcript_text = YouTubeTranscriptApi.get_transcript(video_id)\n",
    "\n",
    "        transcript = \"\"\n",
    "        for i in transcript_text:\n",
    "            transcript += \" \" + i[\"text\"]\n",
    "\n",
    "        return transcript\n",
    "    except Exception as e:\n",
    "        raise e\n",
    "\n",
    "def generate_gemini_content(transcript, prompt):\n",
    "    model = genai.GenerativeModel(\"gemini-1.5-pro-latest\")\n",
    "    response = model.generate_content(prompt + transcript)\n",
    "    return response.text\n"
   ]
  },
  {
   "cell_type": "code",
   "execution_count": 35,
   "metadata": {},
   "outputs": [
    {
     "data": {
      "text/plain": [
       "'```json\\n[\\n  {\\n    \"question\": \"In the thought experiment, what happens to the person\\'s brain?\",\\n    \"answers\": {\\n      \"a\": \"It is left inside the body and studied.\",\\n      \"b\": \"It is removed and placed in a nutrient solution.\",\\n      \"c\": \"It is scanned and then returned to the body.\",\\n      \"d\": \"It is destroyed to observe the body\\'s reaction.\"\\n    },\\n    \"correct_answer\": \"b\"\\n  },\\n  {\\n    \"question\": \"Why does the scientist stimulate the brain in the vat?\",\\n    \"answers\": {\\n      \"a\": \"To control the person\\'s thoughts and actions.\",\\n      \"b\": \"To study the brain\\'s response to stimuli.\",\\n      \"c\": \"To create a realistic sensory experience for the brain.\",\\n      \"d\": \"To erase the person\\'s memories and identity.\"\\n    },\\n    \"correct_answer\": \"c\"\\n  },\\n  {\\n    \"question\": \"What is the main argument for the brain in a vat scenario being possible?\",\\n    \"answers\": {\\n      \"a\": \"Our experiences are ultimately just electrical signals in the brain.\",\\n      \"b\": \"The technology to create such a scenario already exists.\",\\n      \"c\": \"We have no way of knowing what is real and what is not.\",\\n      \"d\": \"Our brains are easily manipulated and deceived.\"\\n    },\\n    \"correct_answer\": \"a\"\\n  },\\n  {\\n    \"question\": \"What is René Descartes\\' famous statement that he believes is undoubtable?\",\\n    \"answers\": {\\n      \"a\": \"The only thing I can know for sure is that I exist.\",\\n      \"b\": \"The world around me is a figment of my imagination.\",\\n      \"c\": \"I am a brain in a vat and this world is not real.\",\\n      \"d\": \"I can doubt everything except my own existence.\"\\n    },\\n    \"correct_answer\": \"a\"\\n  },\\n  {\\n    \"question\": \"What is the central question posed by the video?\",\\n    \"answers\": {\\n      \"a\": \"How can we be sure that our perceptions are accurate?\",\\n      \"b\": \"Is it ethical to experiment on human brains?\",\\n      \"c\": \"What is the nature of consciousness?\",\\n      \"d\": \"Can we create artificial intelligence that is indistinguishable from human intelligence?\"\\n    },\\n    \"correct_answer\": \"a\"\\n  }\\n]\\n``` \\n'"
      ]
     },
     "execution_count": 35,
     "metadata": {},
     "output_type": "execute_result"
    }
   ],
   "source": [
    "transcript = extract_transcript_details(\"https://www.youtube.com/watch?v=zO0sSJB1TrI&ab_channel=SRFKulturSternstunden\")\n",
    "response = generate_gemini_content(transcript, prompt)\n",
    "response"
   ]
  },
  {
   "cell_type": "code",
   "execution_count": 36,
   "metadata": {},
   "outputs": [
    {
     "data": {
      "text/plain": [
       "[{'question': \"In the thought experiment, what happens to the person's brain?\",\n",
       "  'answers': {'a': 'It is left inside the body and studied.',\n",
       "   'b': 'It is removed and placed in a nutrient solution.',\n",
       "   'c': 'It is scanned and then returned to the body.',\n",
       "   'd': \"It is destroyed to observe the body's reaction.\"},\n",
       "  'correct_answer': 'b'},\n",
       " {'question': 'Why does the scientist stimulate the brain in the vat?',\n",
       "  'answers': {'a': \"To control the person's thoughts and actions.\",\n",
       "   'b': \"To study the brain's response to stimuli.\",\n",
       "   'c': 'To create a realistic sensory experience for the brain.',\n",
       "   'd': \"To erase the person's memories and identity.\"},\n",
       "  'correct_answer': 'c'},\n",
       " {'question': 'What is the main argument for the brain in a vat scenario being possible?',\n",
       "  'answers': {'a': 'Our experiences are ultimately just electrical signals in the brain.',\n",
       "   'b': 'The technology to create such a scenario already exists.',\n",
       "   'c': 'We have no way of knowing what is real and what is not.',\n",
       "   'd': 'Our brains are easily manipulated and deceived.'},\n",
       "  'correct_answer': 'a'},\n",
       " {'question': \"What is René Descartes' famous statement that he believes is undoubtable?\",\n",
       "  'answers': {'a': 'The only thing I can know for sure is that I exist.',\n",
       "   'b': 'The world around me is a figment of my imagination.',\n",
       "   'c': 'I am a brain in a vat and this world is not real.',\n",
       "   'd': 'I can doubt everything except my own existence.'},\n",
       "  'correct_answer': 'a'},\n",
       " {'question': 'What is the central question posed by the video?',\n",
       "  'answers': {'a': 'How can we be sure that our perceptions are accurate?',\n",
       "   'b': 'Is it ethical to experiment on human brains?',\n",
       "   'c': 'What is the nature of consciousness?',\n",
       "   'd': 'Can we create artificial intelligence that is indistinguishable from human intelligence?'},\n",
       "  'correct_answer': 'a'}]"
      ]
     },
     "execution_count": 36,
     "metadata": {},
     "output_type": "execute_result"
    }
   ],
   "source": [
    "import json\n",
    "json.loads(response[7:-6])"
   ]
  },
  {
   "cell_type": "code",
   "execution_count": null,
   "metadata": {},
   "outputs": [],
   "source": [
    "def parse_response(response):\n",
    "    question_list = []\n",
    "    choices_list = [[] for _ in range(5)]\n",
    "    answer_list = []\n",
    "    \n",
    "    for i in range(5):\n",
    "        start = response.find(f\"**Question {i+1}:**\")\n",
    "        end = response.find(f\"**Question {i+2}:**\")"
   ]
  }
 ],
 "metadata": {
  "kernelspec": {
   "display_name": "Python 3",
   "language": "python",
   "name": "python3"
  },
  "language_info": {
   "codemirror_mode": {
    "name": "ipython",
    "version": 3
   },
   "file_extension": ".py",
   "mimetype": "text/x-python",
   "name": "python",
   "nbconvert_exporter": "python",
   "pygments_lexer": "ipython3",
   "version": "3.10.0"
  }
 },
 "nbformat": 4,
 "nbformat_minor": 2
}
